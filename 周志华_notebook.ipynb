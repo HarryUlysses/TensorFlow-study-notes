{
 "cells": [
  {
   "cell_type": "markdown",
   "metadata": {},
   "source": [
    "#第2章 模型评估与选择\n",
    "    ##评估方法\n",
    "    1. 留出法：D = S × T;精度+错误率 = 1\n",
    "    2. 交叉验证法：k个子集，每次选取k-1个集合。\n",
    "    3. 自助法：每次取一个，重复m次，没有被取到概率为0.368\n",
    "    \n",
    "    ##性能度量\n",
    "    1. 错误与精度\n",
    "    2. 查准率. 查全率. F1\n",
    "    3. ROC与AUC\n",
    "    4. 代价敏感错误率与代价曲线\n",
    "    \n",
    "    ##比较检验\n",
    "    1. 假设检验\n",
    "    2. 交叉验证t检验\n",
    "    3. McNemar检验\n",
    "    4. Friedman检验与Nemenyi后续检验"
   ]
  },
  {
   "cell_type": "markdown",
   "metadata": {},
   "source": [
    "#第4章 决策树\n",
    "    ##划分准则\n",
    "    1. 信息增熵\n",
    "    2. 增益率\n",
    "    3. 基尼指数\n",
    "    ##剪枝处理\n",
    "    1. 预剪枝\n",
    "    2. 后剪枝\n",
    "    ##连续与缺失值处理\n",
    "    1.连续：取中值\n",
    "    2.缺失：乘以一个比例\n",
    "    ##算法介绍\n",
    "    ID3->C4.5->CART"
   ]
  },
  {
   "cell_type": "markdown",
   "metadata": {},
   "source": [
    "#第五章 神经网络\n",
    "1. BP神经网络\n",
    "2. RBF(Radial Basis Function):聚类分析，图像分割，高维可视化\n",
    "3. ART(Adaptive Resonance Theory)竞争学习网络\n",
    "4. SOM(Self-Organizing Map)\n",
    "5. 级联相关网络\n",
    "6. Elman网络\n",
    "7. Boltzmann机"
   ]
  },
  {
   "cell_type": "markdown",
   "metadata": {},
   "source": [
    "#第六章 支持向量机\n"
   ]
  },
  {
   "cell_type": "markdown",
   "metadata": {},
   "source": [
    "#第七章 贝叶斯\n",
    "1. 朴素贝叶斯\n",
    "2. 半朴素贝叶斯\n",
    "3. 贝叶斯网络\n",
    "4. EM算法:最大似然法"
   ]
  },
  {
   "cell_type": "markdown",
   "metadata": {},
   "source": [
    "#第八章 集成学习\n",
    "1. 强依赖：Boosting：AdaBoost->各种分类器的线性组合\n",
    "2. 弱依赖：\n",
    "        1. Bagging:自主采样选出最优一个\n",
    "        2. 随机森林:随机k个集合，然后分类\n",
    "    ##集成策略\n",
    "    1. 平均法\n",
    "        1.简单平均\n",
    "        2.加权平均\n",
    "    2. 投票法\n",
    "        1. 绝对多数投票法\n",
    "        2. 相对多数投票法\n",
    "        3. 加权投票法\n",
    "    3. 学习法\n",
    "    ##多样性\n",
    "    1.误差分歧\n",
    "    2.多样性度量\n",
    "    3.多样性增强\n",
    "        * 数据样本扰动\n",
    "        * 输入样本扰动\n",
    "        * 输入属性扰动\n",
    "        * 算法参数扰动\n",
    "        \n",
    " "
   ]
  },
  {
   "cell_type": "markdown",
   "metadata": {},
   "source": [
    "#第九章 聚类\n",
    "##性能度量：有效性指标\n",
    "##距离计算：p距离\n",
    "##聚类算法\n",
    "    ###原型聚类\n",
    "        1. K均值聚类\n",
    "        2. 学习向量量化\n",
    "        3. 高斯混合聚类:概率模型\n",
    "    ### 密度聚类:DBSCAN\n",
    "    ### 层次聚类: AGNES\n",
    "BIRCH(1996)->ROCK(1999)    "
   ]
  },
  {
   "cell_type": "markdown",
   "metadata": {},
   "source": [
    "#第十章 降维与度量学习\n",
    "##低维嵌入:多维缩放（MDS)->特征值分解\n",
    "##主成分分析(PCA)\n",
    "##核化线性降维:用核函数处理\n",
    "##流行学习\n",
    "    1. 等度量映射：ISOMAP\n",
    "    2. 局部线性嵌入：LLE\n",
    "##度量学习\n",
    "_____\n",
    "#无监督学习：主成分分析\n",
    "#监督学习降维：线性判别分析（LDA）->KLDA(核化版本)\n"
   ]
  },
  {
   "cell_type": "markdown",
   "metadata": {},
   "source": [
    "#第11章 特征选择与稀疏学习\n",
    "##子集搜索：\n",
    "##特征评价:信息熵\n",
    "    ###过滤选择：Relief算法\n",
    "    ###包裹选择:LVW方法\n",
    "    ###嵌入选择:L1:稀疏解（PGD近端梯度下降）LARS(2004)->LASSO->Group LASSO(2006)\n",
    "##稀疏表示与字典学习\n",
    "##压缩感知:\n",
    "    1. 感知测量\n",
    "    2. 重构恢复\n",
    "    限定等距性（RIP 2008）\n",
    "    ->协同过滤\n",
    "    ->人脸识别鲁棒主成分分析"
   ]
  },
  {
   "cell_type": "markdown",
   "metadata": {},
   "source": [
    "###看不懂～～～～\n",
    "#第12章 计算学习理论\n",
    "##PAC（probably Approximately Correct)概率近似正确\n",
    "##有限空间假设\n",
    "    1. 可分情形\n",
    "    2. 不可分情形\n",
    "##VC维\n",
    "##Rademacher复杂度\n",
    "##稳定性"
   ]
  },
  {
   "cell_type": "markdown",
   "metadata": {},
   "source": [
    "#第13章 半监督学习\n",
    "##半监督学习\n",
    "    ###主动学习\n",
    "    ###纯半监督学习：开放世界\n",
    "    ###直推学习：封闭世界\n",
    "##生成方式\n",
    "    EM\n",
    "##半监督SVM\n",
    "    1.TSVM\n",
    "##图半监督学习\n",
    "##半监督聚类->约束K均值算法\n"
   ]
  },
  {
   "cell_type": "markdown",
   "metadata": {},
   "source": [
    "#第14章 概率图模型\n",
    "##概率图模型\n",
    "    1. 生成模型：联合分布进行建模\n",
    "        1.1. 有向无环图：有向图模型or贝叶斯网->隐马尔可夫网\n",
    "        1.2. 无向无环图：无向图模型or马尔可夫网->马尔可夫随机场\n",
    "    2. 判别模型:条件分布建模\n",
    "        2.1 条件随机场\n",
    "##学习与推断\n",
    "    1.变量消去法\n",
    "    2.信念传播\n",
    "##近似推断\n",
    "    1.MCMC采样-> MH算法：（Gibbs sampling）\n",
    "    2.变分推断\n",
    "##话题模型\n",
    "    LDA话题模型"
   ]
  },
  {
   "cell_type": "markdown",
   "metadata": {},
   "source": [
    "#第15章 规则学习\n",
    "#序贯覆盖\n",
    "    1. 自上向下：生成-测试<-大量Robust\n",
    "    2. 自下向上：数据驱动<-少量\n",
    "#剪枝优化\n",
    "    1. 预剪枝<-CN2\n",
    "    2. 后剪枝<-REP"
   ]
  },
  {
   "cell_type": "markdown",
   "metadata": {},
   "source": [
    "#第16章 强化学习\n",
    "##状态转移\n",
    "#K-摇臂赌博机\n",
    "    ##贪心\n",
    "    ##softmax概率\n",
    "##有模型学习\n",
    "    1. 策略评估 \n",
    "    2. 策略改进\n",
    "    3. 策略迭代与值迭代\n",
    "##免模型学习\n",
    "    1.蒙特卡罗强化学习\n",
    "    2.时序差分学习\n",
    "##模仿学习\n",
    "    1.直接模仿学习\n",
    "    2.逆强化学习"
   ]
  }
 ],
 "metadata": {
  "kernelspec": {
   "display_name": "Python 2",
   "language": "python",
   "name": "python2"
  },
  "language_info": {
   "codemirror_mode": {
    "name": "ipython",
    "version": 2
   },
   "file_extension": ".py",
   "mimetype": "text/x-python",
   "name": "python",
   "nbconvert_exporter": "python",
   "pygments_lexer": "ipython2",
   "version": "2.7.12"
  }
 },
 "nbformat": 4,
 "nbformat_minor": 2
}
