{
 "cells": [
  {
   "cell_type": "code",
   "execution_count": 1,
   "metadata": {
    "collapsed": true
   },
   "outputs": [],
   "source": [
    "import tensorflow as tf\n",
    "import numpy as np\n",
    "#构建满足一元二次方程的函数\n",
    "x_data = np.linspace(-1,1,300)[:, np.newaxis]\n",
    "#为了让结果更密一点，我们构建了300个点，分布在-1到1区间，直接采用np生成等差数列的方式，并将结果为300个\n",
    "#点的一维数组，转换成300×1的二位数组。\n",
    "noise = np.random.normal(0, 0.05, x_data.shape) #加入一些噪声点，使他与x_data的维度一致，并且\n",
    "#拟合为均值为0，方差为0.05的正态分布\n",
    "y_data = np.square(x_data) - 0.5 + noise #y = x^2 - 0.5 + 噪声\n",
    "\n",
    "xs = tf.placeholder(tf.float32, [None, 1])\n",
    "ys = tf.placeholder(tf.float32, [None, 1])"
   ]
  },
  {
   "cell_type": "code",
   "execution_count": 2,
   "metadata": {
    "collapsed": true
   },
   "outputs": [],
   "source": [
    "def add_layer(inputs, in_size, out_size, activation_function=None):\n",
    "    #构造权重：in_size*out_size大小的矩阵\n",
    "    weights = tf.Variable(tf.random_normal([in_size, out_size]))\n",
    "    #构造Biases：1*out_size的矩阵\n",
    "    biases = tf.Variable(tf.zeros([1,out_size]) + 0.1)\n",
    "    #矩阵相乘\n",
    "    Wx_plus_b = tf.matmul(inputs, weights) + biases\n",
    "    if activation_function is None:\n",
    "        outputs = Wx_plus_b\n",
    "    else:\n",
    "        outputs = activation_function(Wx_plus_b)\n",
    "    return outputs#输出得到数据\n",
    "#构建隐藏层,假设隐藏层有10个神经元\n",
    "h1 = add_layer(xs, 1, 20, activation_function = tf.nn.relu)\n",
    "#构建输出层，假设输出层和输入层一样，有一个神经元\n",
    "prediction = add_layer(h1, 20, 1, activation_function = None)\n",
    "# 构建输出层，假设输出层和输入层一样，有一个神经元\n",
    "loss = tf.reduce_mean(tf.reduce_sum(tf.square(ys - prediction), \n",
    "                                    reduction_indices = [1]))\n",
    "train_step = tf.train.GradientDescentOptimizer(0.1).minimize(loss)"
   ]
  },
  {
   "cell_type": "code",
   "execution_count": 3,
   "metadata": {},
   "outputs": [
    {
     "name": "stdout",
     "output_type": "stream",
     "text": [
      "32.27731\n",
      "0.0045752265\n",
      "0.003847933\n",
      "0.0036004786\n",
      "0.0034215823\n",
      "0.0033023267\n",
      "0.0032317745\n",
      "0.0031806685\n",
      "0.0031332597\n",
      "0.0030983365\n",
      "0.0030718741\n",
      "0.0030516814\n",
      "0.0030350569\n",
      "0.0030212288\n",
      "0.0030070967\n",
      "0.0029939476\n",
      "0.0029822644\n",
      "0.0029714247\n",
      "0.0029611601\n",
      "0.0029513307\n"
     ]
    }
   ],
   "source": [
    "init = tf.global_variables_initializer()#初始化所有变量\n",
    "sess = tf.Session()\n",
    "sess.run(init)\n",
    "\n",
    "for i in range(1000): #训练1000次\n",
    "    sess.run(train_step, feed_dict = {xs: x_data, ys: y_data})\n",
    "    if i % 50 == 0: #每50次打印出一次损失值\n",
    "        print(sess.run(loss, feed_dict = {xs:x_data, ys: y_data}))\n",
    "    "
   ]
  },
  {
   "cell_type": "code",
   "execution_count": 5,
   "metadata": {},
   "outputs": [
    {
     "data": {
      "text/plain": [
       "'1.4.1'"
      ]
     },
     "execution_count": 5,
     "metadata": {},
     "output_type": "execute_result"
    }
   ],
   "source": [
    "import tensorflow as tf\n",
    "tf.__version__"
   ]
  }
 ],
 "metadata": {
  "kernelspec": {
   "display_name": "Python 2",
   "language": "python",
   "name": "python2"
  },
  "language_info": {
   "codemirror_mode": {
    "name": "ipython",
    "version": 2
   },
   "file_extension": ".py",
   "mimetype": "text/x-python",
   "name": "python",
   "nbconvert_exporter": "python",
   "pygments_lexer": "ipython2",
   "version": "2.7.14"
  }
 },
 "nbformat": 4,
 "nbformat_minor": 2
}
