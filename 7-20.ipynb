{
 "cells": [
  {
   "cell_type": "code",
   "execution_count": 13,
   "metadata": {},
   "outputs": [
    {
     "name": "stdout",
     "output_type": "stream",
     "text": [
      "[[-0.81131822  1.48459876  0.06532937]\n",
      " [-2.44270396  0.0992484   0.59122431]]\n",
      "[[-0.81131822]\n",
      " [ 1.48459876]\n",
      " [ 0.06532937]]\n"
     ]
    }
   ],
   "source": [
    "import tensorflow as tf\n",
    "\n",
    "# NumPy 是一个科学计算的工具包，这里通过Numpy工具包生成模拟数据集，\n",
    "from numpy.random import RandomState\n",
    "\n",
    "# 定义训练数据batch的大小\n",
    "\n",
    "batch_size = 8\n",
    "\n",
    "# 定义神经网络的参数，这里还是沿用 3.4.2 小节中给出的神经网络结构。\n",
    "\n",
    "w1 = tf.Variable(tf.random_normal([2, 3], stddev = 1, seed = 1))\n",
    "w2 = tf.Variable(tf.random_normal([3, 1], stddev = 1, seed = 1))\n",
    "\n",
    "# 在shape的一个维度上使用None 可以方便使用不大的batch大小。 在训练时需要把数据分\n",
    "# 成比较小的batch， 但是在测试时，可以一次性使用全部的数据。当数据集比较小时这样比较\n",
    "# 方便测试，但数据集比较大，将大量数据放入一个batch可能会导致内存溢出。\n",
    "\n",
    "x = tf.placeholder(tf.float32, shape = (None, 2), name = 'x-input')\n",
    "y_ = tf.placeholder(tf.float32, shape = (None, 1), name = 'y-input')\n",
    "\n",
    "# 定义神经网络前向传播的过程。\n",
    "a = tf.matmul(x, w1)\n",
    "y = tf.matmul(a, w2)\n",
    "\n",
    "# 定义损失函数和反向传播的算法。\n",
    "cross_entropy = -tf.reduce_mean(\n",
    "    y_ * tf.log(tf.clip_by_value(y, 1e-10, 1.0)))\n",
    "train_step = tf.train.AdamOptimizer(0.001).minimize(cross_entropy)\n",
    "\n",
    "# 通过随机数生出一个模拟数据集。\n",
    "rdm = RandomState(1)\n",
    "dataset_size  = 128\n",
    "X = rdm.rand(dataset_size, 2)\n",
    "# 定义规则来给出样本的标签。在这里所有x1 + x2  < 1 的样例都被认为是正样本(比如零件合格)，\n",
    "# 而其他为负样本（比如零件不合格）。 和TensorFlow游乐场中的表示法不大一样的地方是，\n",
    "# 在这里使用0来表示负样本，1来表示正样本。大部分解决分类问题的神经网络都会采用\n",
    "# 0 和 1 的表示方法。\n",
    "\n",
    "Y = [[int(x1 + x2 < 1)] for (x1,x2) in X]\n",
    "\n",
    "# 创建一个会话来运行TensorFlow 程序。\n",
    "with tf.Session() as sess:\n",
    "    init_op = tf.initialize_all_variables()\n",
    "    # 初始化变量。\n",
    "    sess.run(init_op)\n",
    "    \n",
    "    print sess.run(w1)\n",
    "    print sess.run(w2)\n"
   ]
  },
  {
   "cell_type": "code",
   "execution_count": 33,
   "metadata": {},
   "outputs": [
    {
     "ename": "RuntimeError",
     "evalue": "Attempted to use a closed Session.",
     "output_type": "error",
     "traceback": [
      "\u001b[0;31m---------------------------------------------------------------------------\u001b[0m",
      "\u001b[0;31mRuntimeError\u001b[0m                              Traceback (most recent call last)",
      "\u001b[0;32m<ipython-input-33-5b2a999877fd>\u001b[0m in \u001b[0;36m<module>\u001b[0;34m()\u001b[0m\n\u001b[1;32m      6\u001b[0m     \u001b[0mend\u001b[0m \u001b[0;34m=\u001b[0m \u001b[0mmin\u001b[0m\u001b[0;34m(\u001b[0m\u001b[0mstart\u001b[0m \u001b[0;34m+\u001b[0m \u001b[0mbatch_size\u001b[0m\u001b[0;34m,\u001b[0m \u001b[0mdataset_size\u001b[0m\u001b[0;34m)\u001b[0m\u001b[0;34m\u001b[0m\u001b[0m\n\u001b[1;32m      7\u001b[0m     \u001b[0;31m# 通过选取的样本训练神经网络并更新参数。\u001b[0m\u001b[0;34m\u001b[0m\u001b[0;34m\u001b[0m\u001b[0m\n\u001b[0;32m----> 8\u001b[0;31m     \u001b[0msess\u001b[0m\u001b[0;34m.\u001b[0m\u001b[0mrun\u001b[0m\u001b[0;34m(\u001b[0m\u001b[0mtrain_step\u001b[0m\u001b[0;34m,\u001b[0m\u001b[0mfeed_dict\u001b[0m\u001b[0;34m=\u001b[0m\u001b[0;34m{\u001b[0m\u001b[0mx\u001b[0m\u001b[0;34m:\u001b[0m \u001b[0mX\u001b[0m\u001b[0;34m[\u001b[0m\u001b[0mstart\u001b[0m\u001b[0;34m:\u001b[0m\u001b[0mend\u001b[0m\u001b[0;34m]\u001b[0m\u001b[0;34m,\u001b[0m \u001b[0my_\u001b[0m\u001b[0;34m:\u001b[0m \u001b[0mY\u001b[0m\u001b[0;34m[\u001b[0m\u001b[0mstart\u001b[0m\u001b[0;34m:\u001b[0m\u001b[0mend\u001b[0m\u001b[0;34m]\u001b[0m\u001b[0;34m}\u001b[0m\u001b[0;34m)\u001b[0m\u001b[0;34m\u001b[0m\u001b[0m\n\u001b[0m\u001b[1;32m      9\u001b[0m     \u001b[0;32mif\u001b[0m \u001b[0mi\u001b[0m \u001b[0;34m%\u001b[0m \u001b[0;36m1000\u001b[0m \u001b[0;34m==\u001b[0m \u001b[0;36m0\u001b[0m\u001b[0;34m:\u001b[0m\u001b[0;34m\u001b[0m\u001b[0m\n\u001b[1;32m     10\u001b[0m         \u001b[0;31m# 每隔一段时间计算在所有数据上的交叉熵并输出。\u001b[0m\u001b[0;34m\u001b[0m\u001b[0;34m\u001b[0m\u001b[0m\n",
      "\u001b[0;32m/usr/local/lib/python2.7/dist-packages/tensorflow/python/client/session.pyc\u001b[0m in \u001b[0;36mrun\u001b[0;34m(self, fetches, feed_dict, options, run_metadata)\u001b[0m\n\u001b[1;32m    338\u001b[0m     \u001b[0;32mtry\u001b[0m\u001b[0;34m:\u001b[0m\u001b[0;34m\u001b[0m\u001b[0m\n\u001b[1;32m    339\u001b[0m       result = self._run(None, fetches, feed_dict, options_ptr,\n\u001b[0;32m--> 340\u001b[0;31m                          run_metadata_ptr)\n\u001b[0m\u001b[1;32m    341\u001b[0m       \u001b[0;32mif\u001b[0m \u001b[0mrun_metadata\u001b[0m\u001b[0;34m:\u001b[0m\u001b[0;34m\u001b[0m\u001b[0m\n\u001b[1;32m    342\u001b[0m         \u001b[0mproto_data\u001b[0m \u001b[0;34m=\u001b[0m \u001b[0mtf_session\u001b[0m\u001b[0;34m.\u001b[0m\u001b[0mTF_GetBuffer\u001b[0m\u001b[0;34m(\u001b[0m\u001b[0mrun_metadata_ptr\u001b[0m\u001b[0;34m)\u001b[0m\u001b[0;34m\u001b[0m\u001b[0m\n",
      "\u001b[0;32m/usr/local/lib/python2.7/dist-packages/tensorflow/python/client/session.pyc\u001b[0m in \u001b[0;36m_run\u001b[0;34m(self, handle, fetches, feed_dict, options, run_metadata)\u001b[0m\n\u001b[1;32m    515\u001b[0m     \u001b[0;31m# Check session.\u001b[0m\u001b[0;34m\u001b[0m\u001b[0;34m\u001b[0m\u001b[0m\n\u001b[1;32m    516\u001b[0m     \u001b[0;32mif\u001b[0m \u001b[0mself\u001b[0m\u001b[0;34m.\u001b[0m\u001b[0m_closed\u001b[0m\u001b[0;34m:\u001b[0m\u001b[0;34m\u001b[0m\u001b[0m\n\u001b[0;32m--> 517\u001b[0;31m       \u001b[0;32mraise\u001b[0m \u001b[0mRuntimeError\u001b[0m\u001b[0;34m(\u001b[0m\u001b[0;34m'Attempted to use a closed Session.'\u001b[0m\u001b[0;34m)\u001b[0m\u001b[0;34m\u001b[0m\u001b[0m\n\u001b[0m\u001b[1;32m    518\u001b[0m     \u001b[0;32mif\u001b[0m \u001b[0mself\u001b[0m\u001b[0;34m.\u001b[0m\u001b[0mgraph\u001b[0m\u001b[0;34m.\u001b[0m\u001b[0mversion\u001b[0m \u001b[0;34m==\u001b[0m \u001b[0;36m0\u001b[0m\u001b[0;34m:\u001b[0m\u001b[0;34m\u001b[0m\u001b[0m\n\u001b[1;32m    519\u001b[0m       raise RuntimeError('The Session graph is empty.  Add operations to the '\n",
      "\u001b[0;31mRuntimeError\u001b[0m: Attempted to use a closed Session."
     ]
    }
   ],
   "source": [
    "# 设定训练的轮数\n",
    "STEPS = 5000\n",
    "for i in range(STEPS):\n",
    "    # 每次选取batch_size个样本进行训练。\n",
    "    start = (i * batch_size) % dataset_size\n",
    "    end = min(start + batch_size, dataset_size)\n",
    "    # 通过选取的样本训练神经网络并更新参数。\n",
    "    sess.run(train_step,feed_dict={x: X[start:end], y_: Y[start:end]})\n",
    "    if i % 1000 == 0:\n",
    "        # 每隔一段时间计算在所有数据上的交叉熵并输出。\n",
    "        total_cross_entropy = sess.run(\n",
    "            cross_entropy, feed_dict = {x: X, y_: Y})\n",
    "        print(\"After %d training step(s), cross entropy on all data is %g\" % (i, total_cross_entropy))\n",
    "print sess.run(w1)\n",
    "print sess.run(w2)"
   ]
  },
  {
   "cell_type": "code",
   "execution_count": null,
   "metadata": {
    "collapsed": true
   },
   "outputs": [],
   "source": [
    "# 设置非线性激活函数 tf.nn.relu,  tf.sigmoid,   tf.tanh\n",
    "a = tf.nn.relu.(tf.matmul(x, w1) + biases1)\n",
    "y = tf.nn.relu.(tf.matmul(x, w2) + biases2)"
   ]
  },
  {
   "cell_type": "code",
   "execution_count": null,
   "metadata": {
    "collapsed": true
   },
   "outputs": [],
   "source": [
    "####此处我们可以通过交叉熵确定出损失函数：\n",
    "H(p,q) = -E(x)p(x)log q(x)\n",
    "Eg:\n",
    "H((1,0,0),(0.5,0.4,0.1)) = -(1*log0.5+0*log0.4+0*log0.1)~~0.3\n",
    "H((1,0,0),(0.8,0.1,0.1)) = -(....0) = 0.1\n",
    "\n",
    "# 其代码：\n",
    "cross_entropy = -tf.reduce_mean(\n",
    "    y_ * tf.log(tf.clip_by_value(y, 1e-10, 1.0)))\n",
    "# y_代表正确结果，y代表预测结果。\n",
    "v = tf.constant([[1.0,2.0,3.0],[4.0, 5.0, 6.0]])\n",
    "print tf.clip_by_value(v, 2.5, 4.5).eval()\n",
    "#输出[[2.5 2.5 3.]] [4 4.5 4.5]"
   ]
  }
 ],
 "metadata": {
  "kernelspec": {
   "display_name": "Python 2",
   "language": "python",
   "name": "python2"
  },
  "language_info": {
   "codemirror_mode": {
    "name": "ipython",
    "version": 2
   },
   "file_extension": ".py",
   "mimetype": "text/x-python",
   "name": "python",
   "nbconvert_exporter": "python",
   "pygments_lexer": "ipython2",
   "version": "2.7.12"
  }
 },
 "nbformat": 4,
 "nbformat_minor": 2
}
