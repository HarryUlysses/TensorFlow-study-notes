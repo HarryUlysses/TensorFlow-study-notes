{
 "cells": [
  {
   "cell_type": "code",
   "execution_count": 37,
   "metadata": {
    "collapsed": true
   },
   "outputs": [],
   "source": [
    "import tensorflow as tf\n",
    "#声明w1，W2两个变量，这里还通过seed参数设定了随机种子\n",
    "#这样可以保证每次运行得到的结果是一样的。\n",
    "w1 = tf.Variable(tf.random_normal([2,3], stddev = 1, seed = 1))\n",
    "w2 = tf.Variable(tf.random_normal([3,1], stddev = 1, seed = 1))\n",
    "\n",
    "#暂时将输入的特征向量定义为一个常量。注意这里x是一个1×2的矩阵。\n",
    "x = tf.constant([[0.7, 0.9]])\n",
    "\n",
    "#通过之前描述的前向传播算法获得神经网络的输出\n",
    "a = tf.matmul(x, w1)\n",
    "y = tf.matmul(a, w2)\n",
    "\n",
    "sess = tf.Session()\n",
    "# 这里不能直接通过sess.run(y)来获取Y的取值\n",
    "# 因为W1和w2都还没有运行初始化过程。下面的两行分别初始化了w1和w2\n",
    "# init_op = tf.initialize_all_variables()"
   ]
  },
  {
   "cell_type": "code",
   "execution_count": 38,
   "metadata": {},
   "outputs": [
    {
     "name": "stdout",
     "output_type": "stream",
     "text": [
      "[[ 3.95757794]]\n"
     ]
    }
   ],
   "source": [
    "## 结果输入\n",
    "sess.run(w1.initializer)\n",
    "sess.run(w2.initializer)\n",
    "# 输出[3.95757794]\n",
    "print(sess.run(y))"
   ]
  },
  {
   "cell_type": "code",
   "execution_count": null,
   "metadata": {
    "collapsed": true
   },
   "outputs": [],
   "source": [
    "init_op = tf.initialize_all_variables()\n",
    "print(sess.run(init_op)) "
   ]
  },
  {
   "cell_type": "code",
   "execution_count": 30,
   "metadata": {},
   "outputs": [
    {
     "name": "stdout",
     "output_type": "stream",
     "text": [
      "None\n"
     ]
    }
   ],
   "source": [
    "-------------------------------------------------------------------------------------\n",
    "-----------------------------------------------------------------------------------------\n",
    "#下一部分"
   ]
  },
  {
   "cell_type": "code",
   "execution_count": 48,
   "metadata": {
    "collapsed": true
   },
   "outputs": [],
   "source": [
    "import tensorflow as tf\n",
    "w1 = tf.Variable(tf.random_normal([2, 3],stddev = 1))\n",
    "w2 = tf.Variable(tf.random_normal([3, 1],stddev = 1))\n",
    "\n",
    "# 定义palceholder作为存放输入数据的地方。这里的维度也不一定要定义。\n",
    "# 但如果维度是确定的，那么给出维度可以降低出错的概率"
   ]
  },
  {
   "cell_type": "code",
   "execution_count": null,
   "metadata": {
    "collapsed": true
   },
   "outputs": [],
   "source": [
    "x = tf.placeholder(tf.float32, shape = (1, 2), name = \"input\")"
   ]
  },
  {
   "cell_type": "code",
   "execution_count": 49,
   "metadata": {
    "collapsed": true
   },
   "outputs": [],
   "source": [
    "##\n",
    "# 上一例子只给出x为[1,2]，即一种样例数据。若改为n×2的矩阵的话，则结果会为n×1，即n个输出结果\n",
    "x = tf.placeholder(tf.float32, shape = (3, 2), name = \"imput\")"
   ]
  },
  {
   "cell_type": "code",
   "execution_count": 50,
   "metadata": {
    "collapsed": true
   },
   "outputs": [],
   "source": [
    "a = tf.matmul(x, w1)\n",
    "y = tf.matmul(a, w2)\n",
    "sess = tf.Session()\n",
    "init_op = tf.initialize_all_variables()\n",
    "sess.run(init_op)\n",
    "\n",
    "#  下面一行将报错： InvalidArgumentError: You must feed a value for placeholder\n",
    "# tensor 'input_1' with dtype float and shape ([1,2])\n",
    "# print (sess.run(y))"
   ]
  },
  {
   "cell_type": "code",
   "execution_count": 47,
   "metadata": {},
   "outputs": [
    {
     "name": "stdout",
     "output_type": "stream",
     "text": [
      "[[-4.69597244]]\n"
     ]
    }
   ],
   "source": [
    "# 下面一行将会得到和之前一样的输出结果：[[3.95757794]]\n",
    "print (sess.run(y, feed_dict = {x: [[0.7, 0.9]]}))"
   ]
  },
  {
   "cell_type": "code",
   "execution_count": 51,
   "metadata": {},
   "outputs": [
    {
     "name": "stdout",
     "output_type": "stream",
     "text": [
      "[[ 0.26006845]\n",
      " [ 0.04620876]\n",
      " [ 0.19100621]]\n"
     ]
    }
   ],
   "source": [
    "# 因为x在定义时指定了n为3， 所以在运行前向传播过程时需要提供3个样例数据。\n",
    "print (sess.run(y, feed_dict = {x: [[0.7, 0.9], [0.1, 0.4], [0.5, 0.8]]}))"
   ]
  },
  {
   "cell_type": "code",
   "execution_count": null,
   "metadata": {
    "collapsed": true
   },
   "outputs": [],
   "source": [
    "-----------------------------------------------------------------------------\n",
    "--------------------------------------------------------------------------------\n",
    "# 补充 此例子缺少一定损失函数刻画当前的预测值和真实答案之间的差距。然后通过反向传播算法来\n",
    "# 调整神经网络的取值参数，使得差距可以被缩小\n",
    "# 此处举个例子写法\n",
    "\n",
    "\n",
    "# 定义损失函数来刻画预测值与真实值的差距。\n",
    "cross_entropy = -tf.reduce_mean()\n",
    "    y_ * tf.log(tf.clip_by_value(y, le-10, 1.0)))\n",
    "# 定义学习率， 在第四章中将更加具体的介绍学习率/\n",
    "learning_rate = 0.001\n",
    "# 定义反向传播算法来优化神经网络中的参数.\n",
    "train_step =\\\n",
    "    tf.train.AdamOptimizer(learning_rate).minimize(cross_entropy)\n",
    "    "
   ]
  }
 ],
 "metadata": {
  "kernelspec": {
   "display_name": "Python 2",
   "language": "python",
   "name": "python2"
  },
  "language_info": {
   "codemirror_mode": {
    "name": "ipython",
    "version": 2
   },
   "file_extension": ".py",
   "mimetype": "text/x-python",
   "name": "python",
   "nbconvert_exporter": "python",
   "pygments_lexer": "ipython2",
   "version": "2.7.14"
  }
 },
 "nbformat": 4,
 "nbformat_minor": 2
}
