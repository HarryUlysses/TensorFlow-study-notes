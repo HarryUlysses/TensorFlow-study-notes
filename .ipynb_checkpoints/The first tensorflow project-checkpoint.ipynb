{
 "cells": [
  {
   "cell_type": "code",
   "execution_count": 1,
   "metadata": {},
   "outputs": [],
   "source": [
    "import tensorflow as tf\n",
    "import numpy as np\n",
    "#构建满足一元二次方程的函数\n",
    "x_data = np.linspace(-1,1,300)[:, np.newaxis]\n",
    "#为了让结果更密一点，我们构建了300个点，分布在-1到1区间，直接采用np生成等差数列的方式，并将结果为300个\n",
    "#点的一维数组，转换成300×1的二位数组。\n",
    "noise = np.random.normal(0, 0.05, x_data.shape) #加入一些噪声点，使他与x_data的维度一致，并且\n",
    "#拟合为均值为0，方差为0.05的正态分布\n",
    "y_data = np.square(x_data) - 0.5 + noise #y = x^2 - 0.5 + 噪声\n",
    "\n",
    "xs = tf.placeholder(tf.float32, [None, 1])\n",
    "ys = tf.placeholder(tf.float32, [None, 1])"
   ]
  },
  {
   "cell_type": "code",
   "execution_count": 2,
   "metadata": {
    "collapsed": true
   },
   "outputs": [],
   "source": [
    "def add_layer(inputs, in_size, out_size, activation_function=None):\n",
    "    #构造权重：in_size*out_size大小的矩阵\n",
    "    weights = tf.Variable(tf.random_normal([in_size, out_size]))\n",
    "    #构造Biases：1*out_size的矩阵\n",
    "    biases = tf.Variable(tf.zeros([1,out_size]) + 0.1)\n",
    "    #矩阵相乘\n",
    "    Wx_plus_b = tf.matmul(inputs, weights) + biases\n",
    "    if activation_function is None:\n",
    "        outputs = Wx_plus_b\n",
    "    else:\n",
    "        outputs = activation_function(Wx_plus_b)\n",
    "    return outputs#输出得到数据\n",
    "#构建隐藏层,假设隐藏层有10个神经元\n",
    "h1 = add_layer(xs, 1, 20, activation_function = tf.nn.relu)\n",
    "#构建输出层，假设输出层和输入层一样，有一个神经元\n",
    "prediction = add_layer(h1, 20, 1, activation_function = None)\n",
    "# 构建输出层，假设输出层和输入层一样，有一个神经元\n",
    "loss = tf.reduce_mean(tf.reduce_sum(tf.square(ys - prediction), \n",
    "                                    reduction_indices = [1]))\n",
    "train_step = tf.train.GradientDescentOptimizer(0.1).minimize(loss)"
   ]
  },
  {
   "cell_type": "code",
   "execution_count": 4,
   "metadata": {},
   "outputs": [
    {
     "name": "stdout",
     "output_type": "stream",
     "text": [
      "8.174941\n",
      "0.0031599223\n",
      "0.002861529\n",
      "0.0027336595\n",
      "0.0026535615\n",
      "0.0025965036\n",
      "0.0025544667\n",
      "0.0025258407\n",
      "0.00250597\n",
      "0.002492434\n",
      "0.0024813493\n",
      "0.0024736829\n",
      "0.0024667466\n",
      "0.002461288\n",
      "0.0024570585\n",
      "0.0024534985\n",
      "0.0024504827\n",
      "0.0024478668\n",
      "0.0024455201\n",
      "0.0024433269\n"
     ]
    }
   ],
   "source": [
    "init = tf.global_variables_initializer()#初始化所有变量\n",
    "sess = tf.Session()\n",
    "sess.run(init)\n",
    "\n",
    "for i in range(1000): #训练1000次\n",
    "    sess.run(train_step, feed_dict = {xs: x_data, ys: y_data})\n",
    "    if i % 50 == 0: #每50次打印出一次损失值\n",
    "        print(sess.run(loss, feed_dict = {xs:x_data, ys: y_data}))\n",
    "    "
   ]
  },
  {
   "cell_type": "code",
   "execution_count": 5,
   "metadata": {},
   "outputs": [
    {
     "data": {
      "text/plain": [
       "'1.4.1'"
      ]
     },
     "execution_count": 5,
     "metadata": {},
     "output_type": "execute_result"
    }
   ],
   "source": [
    "import tensorflow as tf\n",
    "tf.__version__"
   ]
  }
 ],
 "metadata": {
  "kernelspec": {
   "display_name": "Python 2",
   "language": "python",
   "name": "python2"
  },
  "language_info": {
   "codemirror_mode": {
    "name": "ipython",
    "version": 2
   },
   "file_extension": ".py",
   "mimetype": "text/x-python",
   "name": "python",
   "nbconvert_exporter": "python",
   "pygments_lexer": "ipython2",
   "version": "2.7.12"
  }
 },
 "nbformat": 4,
 "nbformat_minor": 2
}
